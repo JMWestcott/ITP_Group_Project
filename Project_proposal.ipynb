{
 "cells": [
  {
   "cell_type": "markdown",
   "metadata": {},
   "source": [
    "# Introduction to Programming Group Project\n",
    "\n",
    "## Team Members\n",
    "+ Lisa Katsnelson\n",
    "+ Shaleigh Smith\n",
    "+ Jill Westcott\n",
    "\n",
    "### Core Idea: Create a tic-tac-toe game"
   ]
  },
  {
   "cell_type": "markdown",
   "metadata": {},
   "source": [
    "#### Expected input: Selected location to place an X or O within the tic-tac-toe board"
   ]
  },
  {
   "cell_type": "markdown",
   "metadata": {},
   "source": [
    "#### Expected output: Winning player or indication that the game ended in a tie"
   ]
  },
  {
   "cell_type": "markdown",
   "metadata": {},
   "source": [
    "#### Pseudocode\n",
    "1. Create a tic-tac-toe board using a 3 x 3 matrix\n",
    "2. Assign positions on the board by row index and display those values as possible positions to play\n",
    "3. Randomly assign first move to X or O\n",
    "4. Prompt user to select position for first move\n",
    "5. Query board whether that position is available and place symbol there if true, return error if false and prompt for new value\n",
    "6. Evaluate whether a winning row, column, or diagonal of 3 identical values exists\n",
    "7. If a winner exists, display message indicating \"X wins\" or \"O wins\"\n",
    "8. If a winner does not exist, evaluate whether an open playable position exists.  If no position exists, display message indicating game is a tie.  Else, proceed to step 9.\n",
    "9. Display current board showing positions that have been played\n",
    "10. Prompt next player for next position to place their symbol\n",
    "11. Repeat steps 5-10 until an output is generated"
   ]
  }
 ],
 "metadata": {
  "kernelspec": {
   "display_name": "Python 3",
   "language": "python",
   "name": "python3"
  },
  "language_info": {
   "codemirror_mode": {
    "name": "ipython",
    "version": 3
   },
   "file_extension": ".py",
   "mimetype": "text/x-python",
   "name": "python",
   "nbconvert_exporter": "python",
   "pygments_lexer": "ipython3",
   "version": "3.6.6"
  }
 },
 "nbformat": 4,
 "nbformat_minor": 2
}
